{
 "cells": [
  {
   "cell_type": "code",
   "execution_count": 24,
   "metadata": {},
   "outputs": [],
   "source": [
    "import pandas as pd\n",
    "import csv"
   ]
  },
  {
   "cell_type": "code",
   "execution_count": 33,
   "metadata": {},
   "outputs": [
    {
     "name": "stderr",
     "output_type": "stream",
     "text": [
      "/var/folders/6b/5f93vl950pv7k7zsttbkzgfh0000gn/T/ipykernel_22519/916517162.py:1: DtypeWarning: Columns (8,9) have mixed types. Specify dtype option on import or set low_memory=False.\n",
      "  df = pd.read_csv('sample_data.csv')\n"
     ]
    }
   ],
   "source": [
    "df = pd.read_csv('sample_data.csv')"
   ]
  },
  {
   "cell_type": "code",
   "execution_count": 41,
   "metadata": {},
   "outputs": [],
   "source": [
    "df2 = df[['Tweet', 'User']]\n",
    "df2 = df2.rename(columns={'Tweet': 'Prompt', 'User': 'Completion'})"
   ]
  },
  {
   "cell_type": "code",
   "execution_count": 42,
   "metadata": {},
   "outputs": [
    {
     "data": {
      "text/html": [
       "<div>\n",
       "<style scoped>\n",
       "    .dataframe tbody tr th:only-of-type {\n",
       "        vertical-align: middle;\n",
       "    }\n",
       "\n",
       "    .dataframe tbody tr th {\n",
       "        vertical-align: top;\n",
       "    }\n",
       "\n",
       "    .dataframe thead th {\n",
       "        text-align: right;\n",
       "    }\n",
       "</style>\n",
       "<table border=\"1\" class=\"dataframe\">\n",
       "  <thead>\n",
       "    <tr style=\"text-align: right;\">\n",
       "      <th></th>\n",
       "      <th>Prompt</th>\n",
       "      <th>Completion</th>\n",
       "    </tr>\n",
       "  </thead>\n",
       "  <tbody>\n",
       "    <tr>\n",
       "      <th>0</th>\n",
       "      <td>How to hire 100x more productive team members ...</td>\n",
       "      <td>smnishad</td>\n",
       "    </tr>\n",
       "    <tr>\n",
       "      <th>1</th>\n",
       "      <td>Chatgtp breakfast about to start #ChatGPT #fut...</td>\n",
       "      <td>SevenKingsSch</td>\n",
       "    </tr>\n",
       "    <tr>\n",
       "      <th>2</th>\n",
       "      <td>@PiCoreTeam Pi network will be one of the supe...</td>\n",
       "      <td>jad_alrabe3</td>\n",
       "    </tr>\n",
       "    <tr>\n",
       "      <th>3</th>\n",
       "      <td>Build your first $100K/Year Start-up in just 2...</td>\n",
       "      <td>yournotionguy</td>\n",
       "    </tr>\n",
       "    <tr>\n",
       "      <th>4</th>\n",
       "      <td>Disappointed with @Samsung. My TV stopped work...</td>\n",
       "      <td>sbmza</td>\n",
       "    </tr>\n",
       "  </tbody>\n",
       "</table>\n",
       "</div>"
      ],
      "text/plain": [
       "                                              Prompt     Completion\n",
       "0  How to hire 100x more productive team members ...       smnishad\n",
       "1  Chatgtp breakfast about to start #ChatGPT #fut...  SevenKingsSch\n",
       "2  @PiCoreTeam Pi network will be one of the supe...    jad_alrabe3\n",
       "3  Build your first $100K/Year Start-up in just 2...  yournotionguy\n",
       "4  Disappointed with @Samsung. My TV stopped work...          sbmza"
      ]
     },
     "execution_count": 42,
     "metadata": {},
     "output_type": "execute_result"
    }
   ],
   "source": [
    "df2.head()"
   ]
  },
  {
   "cell_type": "code",
   "execution_count": 46,
   "metadata": {},
   "outputs": [],
   "source": [
    "df2 = df2[:1000]"
   ]
  },
  {
   "cell_type": "code",
   "execution_count": 47,
   "metadata": {},
   "outputs": [],
   "source": [
    "df2.to_csv('openai_sample_dataset.csv', index=False)"
   ]
  },
  {
   "cell_type": "code",
   "execution_count": 44,
   "metadata": {},
   "outputs": [
    {
     "data": {
      "text/plain": [
       "Date                       Tweet                                                                                                                                                                                                                                                                                                               Url                                                            User            UserCreated                UserVerified  UserFollowers  UserFriends  Retweets  Likes  Location              UserDescription                                                                                                                                                              \n",
       "2022-11-30 18:13:41+00:00  #ai Models are set to become the search engines of the future, ATM they still struggle with veracity… here is #chatgpt by @OpenAI based on #GPT3. #seo\\n\\nhttps://t.co/qqZ1G0fOTy                                                                                                                                   https://twitter.com/ttuccoo/status/1598017439136362496         ttuccoo         2011-09-13 21:30:33+00:00  FALSE         118.0          395.0        1         2      Montréal              All things SEO + Ai - Random Facts - cofounder @draftngoal - cofounder @data-seo.com                                                                                             1\n",
       "2023-02-03 05:29:35+00:00  Click to Play: https://t.co/7AV9V1FJpR !\\n\\n#mmorpg #video #game\\n#space #starwars #eve #fortnite #startrek #AI #dalle #nasa #elite #ai #pubg #pc #nintendo #art #mmo #trippy #nft #fantasy #RPG #minecraft #vr #ar #xbox #Bitcoin #anime #steam #dbz #ChatGPT #future #hippy #elfgirl #d2 https://t.co/Ca7MqgOVUS  https://twitter.com/StarfighterGen/status/1621380355126169603  StarfighterGen  2018-04-05 01:09:05+00:00  False         112.0          93.0         2.0       3.0    Pittsburgh            #1 world :Starcraft/Warcraft3/more.  Scientist, knows Jesus is real, author, MMO designer/coder,Eagle Scout,love police,victim of police brutality, love police.                 1\n",
       "2023-02-03 05:26:01+00:00  Hi #ChatGPT, can you create a poem about #FSC? Turned out very nice! @FSC_IC @fscagd https://t.co/pHzExBgZZm                                                                                                                                                                                                        https://twitter.com/UlfSonntag/status/1621379457234632704      UlfSonntag      2014-02-26 20:31:22+00:00  False         140.0          85.0         0.0       1.0    Vellmar (bei Kassel)  Beratung, Schulungen und Dokumente zu FSC, PEFC und EUTR; Anbieter von FSC- und PEFC-Gruppenzertifizierung für kleine Betriebe der Chain-of-Custody (https://t.co/7AVkbqi7Sg)    1\n",
       "2023-02-03 05:26:26+00:00  Click to Play: https://t.co/7AV9V1FJpR !\\n\\n#mmorpg #video #game\\n#space #starwars #eve #fortnite #startrek #AI #dalle #nasa #elite #ai #pubg #pc #nintendo #art #mmo #trippy #nft #fantasy #RPG #minecraft #vr #ar #xbox #Bitcoin #anime #steam #dbz #ChatGPT #future #hippy #d12 #ee https://t.co/DyX2TtGcsB      https://twitter.com/StarfighterGen/status/1621379562926907392  StarfighterGen  2018-04-05 01:09:05+00:00  False         112.0          93.0         0.0       5.0    Pittsburgh            #1 world :Starcraft/Warcraft3/more.  Scientist, knows Jesus is real, author, MMO designer/coder,Eagle Scout,love police,victim of police brutality, love police.                 1\n",
       "2023-02-03 05:26:33+00:00  With all the noise in the air around #ChatGPT and #LLMs, @OpenAI's contribution as #Whisper  has gone completely unnoticed. With open-sourcing ASR model, this is SOTA in terms of human-level accuracy. And also has support for 99+ languages. 🔥                                                                  https://twitter.com/RaghavSonavane/status/1621379592518004736  RaghavSonavane  2014-10-13 19:47:46+00:00  False         81.0           108.0        0.0       1.0    Austin, TX            Lead ML Engineering @Sprinklr \\nIIT Kharagpur                                                                                                                                    1\n",
       "                                                                                                                                                                                                                                                                                                                                                                                                                                                                                                                                                                                                                                                                                                                          ..\n",
       "2023-01-09 02:47:36+00:00  @brockhudg #ChatGPT is a game changer                                                                                                                                                                                                                                                                               https://twitter.com/RonnieBernick/status/1612279895291224064   RonnieBernick   2011-04-17 02:36:11+00:00  False         951.0          278.0        0.0       1.0    Niagara Falls, NY     Husband to Katie | Dad to Griffey & Maddux | CEO @HotCorner_ | Professional Hitting Coach | Inquiries: rbernick@hotcornerathletics.com                                           1\n",
       "2023-01-09 02:47:51+00:00  @nxthompson makes a compelling argument for integrating #chatgpt into k-12 #education, arguing that the #technology is something kids need to learn how to use rather than #schools banning its use outright. \\n\\nFine line between integrating a tool like that…https://t.co/fOQUc08xtt                            https://twitter.com/GregSchuckman/status/1612279959661182976   GregSchuckman   2012-10-23 02:24:43+00:00  False         105.0          183.0        0.0       0.0    Maryland, USA         Education Commissioner l Higher Education Advocate l Dedicated Public Servant l Nonprofit Board ChaIr l Economic Opportunity Champion l S&T Policy Wonk                          1\n",
       "2023-01-09 02:48:50+00:00  #ChatGPT is unreal! So many ways to save time and build new products. The mind is buzzing.                                                                                                                                                                                                                          https://twitter.com/garethdaine/status/1612280207334850565     garethdaine     2021-03-27 17:17:09+00:00  False         6.0            110.0        0.0       0.0    Liverpool, England    Software Engineer • CEO                                                                                                                                                          1\n",
       "2023-01-09 02:49:42+00:00  All of the schools stopping students from\\nusing #chatgpt will be further behind than the schools smart enough to develop process around it. Lean into the future, don’t hold onto the past.                                                                                                                        https://twitter.com/bentaylordata/status/1612280422238687235   bentaylordata   2014-03-15 03:16:15+00:00  False         2445.0         1732.0       0.0       0.0    Lehi, UT              Chief AI Strategist @Dataiku\\nWhy I joined Dataiku https://t.co/I0Z0KkcNDQ                                                                                                       1\n",
       "2023-02-24 07:59:26+00:00  How to hire 100x more productive team members for Free? We just interviewed and hired #chatgpt for free as a team member. \\nhttps://t.co/JwlXXK6WKt                                                                                                                                                                 https://twitter.com/smnishad/status/1629028212914245632        smnishad        2009-03-04 15:50:52+00:00  False         2524.0         4966.0       0.0       0.0    New Delhi, India      Account Planning at Adfactors Advertising                                                                                                                                        1\n",
       "Length: 223776, dtype: int64"
      ]
     },
     "execution_count": 44,
     "metadata": {},
     "output_type": "execute_result"
    }
   ],
   "source": [
    "df.value_counts()"
   ]
  },
  {
   "cell_type": "code",
   "execution_count": null,
   "metadata": {},
   "outputs": [],
   "source": []
  }
 ],
 "metadata": {
  "kernelspec": {
   "display_name": "Python 3",
   "language": "python",
   "name": "python3"
  },
  "language_info": {
   "codemirror_mode": {
    "name": "ipython",
    "version": 3
   },
   "file_extension": ".py",
   "mimetype": "text/x-python",
   "name": "python",
   "nbconvert_exporter": "python",
   "pygments_lexer": "ipython3",
   "version": "3.9.10"
  },
  "orig_nbformat": 4
 },
 "nbformat": 4,
 "nbformat_minor": 2
}
